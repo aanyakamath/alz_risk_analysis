{
 "cells": [
  {
   "cell_type": "code",
   "execution_count": 1,
   "id": "9f4655ac-2140-4f73-a4d3-e3ff69ab2d9e",
   "metadata": {},
   "outputs": [
    {
     "ename": "IndentationError",
     "evalue": "unexpected indent (2782099800.py, line 49)",
     "output_type": "error",
     "traceback": [
      "\u001b[0;36m  Cell \u001b[0;32mIn[1], line 49\u001b[0;36m\u001b[0m\n\u001b[0;31m    print(format_alignment(*a))\u001b[0m\n\u001b[0m    ^\u001b[0m\n\u001b[0;31mIndentationError\u001b[0m\u001b[0;31m:\u001b[0m unexpected indent\n"
     ]
    }
   ],
   "source": [
    "from Bio import pairwise2\n",
    "from Bio.pairwise2 import format_alignment\n",
    "from Bio import Entrez\n",
    "from Bio import SeqIO\n",
    "\n",
    "#this program compares a region of the human TYK2 gene with a region of the mouse TYK2 gene\n",
    "#the regions are each 20 nucleotides long\n",
    "#the comparison produces a similarity score\n",
    "#the comparison works by adding gaps in the each sequence to align the regions of similarity \n",
    "\n",
    "#fetch human TYK2 sequence\n",
    "def fetch_human(id):\n",
    "    Entrez.email = \"aanya.kamath@gmail.com\"\n",
    "    #nucleotide just means nucleotide sequence\n",
    "    handle = Entrez.efetch(db=\"nucleotide\", id=\"NM_003331.5\", rettype=\"gb\", retmode=\"text\")\n",
    "    #rettype=return type, genbank is a format like FASTA\n",
    "    record = SeqIO.read(handle, \"genbank\")\n",
    "    handle.close()\n",
    "    return record\n",
    "\n",
    "#fetch mouse TYK2 sequence\n",
    "def fetch_mouse(id):\n",
    "    Entrez.email = \"aanya.kamath@gmail.com\"\n",
    "    handle = Entrez.efetch(db=\"nucleotide\", id=\"NM_018793.3\", rettype=\"gb\", retmode=\"text\")\n",
    "    record=SeqIO.read(handle, \"genbank\")\n",
    "    handle.close()\n",
    "    return record\n",
    "\n",
    "#the region is from the 10th nucleotide to the 30th nucleotide\n",
    "start_position = 10\n",
    "end_position = 30\n",
    "\n",
    "sequence_record1 = fetch_human(id)\n",
    "gene1_sequence = sequence_record1.seq\n",
    "\n",
    "region_1 = gene1_sequence[start_position-1:end_position]\n",
    "\n",
    "sequence_record2 = fetch_mouse(id)\n",
    "gene2_sequence = sequence_record2.seq\n",
    "\n",
    "region_2 = gene2_sequence[start_position-1:end_position]\n",
    "\n",
    "#print the regions of the sequences\n",
    "print(region_1)\n",
    "print(region_2)\n",
    "\n",
    "#the numbers control how the similarity score is calculated\n",
    "#for example, 0.5 is deducted from the similarity score for every gap add):\n",
    "    print(format_alignment(*a))\n"
   ]
  },
  {
   "cell_type": "code",
   "execution_count": null,
   "id": "058fa1ab-f317-4df4-9c3a-ecf20044a268",
   "metadata": {},
   "outputs": [],
   "source": []
  }
 ],
 "metadata": {
  "kernelspec": {
   "display_name": "Python 3 (ipykernel)",
   "language": "python",
   "name": "python3"
  },
  "language_info": {
   "codemirror_mode": {
    "name": "ipython",
    "version": 3
   },
   "file_extension": ".py",
   "mimetype": "text/x-python",
   "name": "python",
   "nbconvert_exporter": "python",
   "pygments_lexer": "ipython3",
   "version": "3.8.10"
  }
 },
 "nbformat": 4,
 "nbformat_minor": 5
}
